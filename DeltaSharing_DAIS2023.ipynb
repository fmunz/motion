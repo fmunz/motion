{
  "nbformat": 4,
  "nbformat_minor": 0,
  "metadata": {
    "colab": {
      "provenance": [],
      "include_colab_link": true
    },
    "kernelspec": {
      "name": "python3",
      "display_name": "Python 3"
    },
    "language_info": {
      "name": "python"
    }
  },
  "cells": [
    {
      "cell_type": "markdown",
      "metadata": {
        "id": "view-in-github",
        "colab_type": "text"
      },
      "source": [
        "<a href=\"https://colab.research.google.com/github/fmunz/motion/blob/master/DeltaSharing_DAIS2023.ipynb\" target=\"_parent\"><img src=\"https://colab.research.google.com/assets/colab-badge.svg\" alt=\"Open In Colab\"/></a>"
      ]
    },
    {
      "cell_type": "code",
      "execution_count": 1,
      "metadata": {
        "colab": {
          "base_uri": "https://localhost:8080/"
        },
        "id": "6XZTURsAIUPR",
        "outputId": "a0c2c69f-f76c-41f8-b55a-a3990da97122"
      },
      "outputs": [
        {
          "output_type": "stream",
          "name": "stdout",
          "text": [
            "Collecting delta-sharing\n",
            "  Downloading delta_sharing-0.7.0-py3-none-any.whl (17 kB)\n",
            "Requirement already satisfied: pandas in /usr/local/lib/python3.10/dist-packages (from delta-sharing) (1.5.3)\n",
            "Requirement already satisfied: pyarrow>=4.0.0 in /usr/local/lib/python3.10/dist-packages (from delta-sharing) (9.0.0)\n",
            "Requirement already satisfied: fsspec>=0.7.4 in /usr/local/lib/python3.10/dist-packages (from delta-sharing) (2023.6.0)\n",
            "Requirement already satisfied: requests in /usr/local/lib/python3.10/dist-packages (from delta-sharing) (2.27.1)\n",
            "Requirement already satisfied: aiohttp in /usr/local/lib/python3.10/dist-packages (from delta-sharing) (3.8.4)\n",
            "Requirement already satisfied: yarl>=1.6.0 in /usr/local/lib/python3.10/dist-packages (from delta-sharing) (1.9.2)\n",
            "Requirement already satisfied: numpy>=1.16.6 in /usr/local/lib/python3.10/dist-packages (from pyarrow>=4.0.0->delta-sharing) (1.22.4)\n",
            "Requirement already satisfied: multidict>=4.0 in /usr/local/lib/python3.10/dist-packages (from yarl>=1.6.0->delta-sharing) (6.0.4)\n",
            "Requirement already satisfied: idna>=2.0 in /usr/local/lib/python3.10/dist-packages (from yarl>=1.6.0->delta-sharing) (3.4)\n",
            "Requirement already satisfied: attrs>=17.3.0 in /usr/local/lib/python3.10/dist-packages (from aiohttp->delta-sharing) (23.1.0)\n",
            "Requirement already satisfied: charset-normalizer<4.0,>=2.0 in /usr/local/lib/python3.10/dist-packages (from aiohttp->delta-sharing) (2.0.12)\n",
            "Requirement already satisfied: async-timeout<5.0,>=4.0.0a3 in /usr/local/lib/python3.10/dist-packages (from aiohttp->delta-sharing) (4.0.2)\n",
            "Requirement already satisfied: frozenlist>=1.1.1 in /usr/local/lib/python3.10/dist-packages (from aiohttp->delta-sharing) (1.3.3)\n",
            "Requirement already satisfied: aiosignal>=1.1.2 in /usr/local/lib/python3.10/dist-packages (from aiohttp->delta-sharing) (1.3.1)\n",
            "Requirement already satisfied: python-dateutil>=2.8.1 in /usr/local/lib/python3.10/dist-packages (from pandas->delta-sharing) (2.8.2)\n",
            "Requirement already satisfied: pytz>=2020.1 in /usr/local/lib/python3.10/dist-packages (from pandas->delta-sharing) (2022.7.1)\n",
            "Requirement already satisfied: urllib3<1.27,>=1.21.1 in /usr/local/lib/python3.10/dist-packages (from requests->delta-sharing) (1.26.16)\n",
            "Requirement already satisfied: certifi>=2017.4.17 in /usr/local/lib/python3.10/dist-packages (from requests->delta-sharing) (2023.5.7)\n",
            "Requirement already satisfied: six>=1.5 in /usr/local/lib/python3.10/dist-packages (from python-dateutil>=2.8.1->pandas->delta-sharing) (1.16.0)\n",
            "Installing collected packages: delta-sharing\n",
            "Successfully installed delta-sharing-0.7.0\n"
          ]
        }
      ],
      "source": [
        "!pip install delta-sharing"
      ]
    },
    {
      "cell_type": "code",
      "source": [
        "! cat configdais.share"
      ],
      "metadata": {
        "colab": {
          "base_uri": "https://localhost:8080/"
        },
        "id": "Fqhd7Uf_bRG1",
        "outputId": "b9eb17ac-6eb1-4e44-9865-1c89db07fca7"
      },
      "execution_count": 2,
      "outputs": [
        {
          "output_type": "stream",
          "name": "stdout",
          "text": [
            "{\"shareCredentialsVersion\":1,\"bearerToken\":\"TIvLokUHX5IPB-HCidkkWUC551MIjpcIxs5rRY3pCoEtPdS4JETi0GE1KfFgiT3M\",\"endpoint\":\"https://oregon.cloud.databricks.com/api/2.0/delta-sharing/metastores/9317329f-e53f-4293-bdc1-b7712bffd7f8\",\"expirationTime\":\"2023-09-26T23:06:31.676Z\"}"
          ]
        }
      ]
    },
    {
      "cell_type": "code",
      "source": [
        "import delta_sharing\n",
        "import pandas as pd\n",
        "\n",
        "# Point to the profile file, location also works with http(s)\n",
        "profile_file = \"configdais.share\"\n",
        "\n",
        "# Create a SharingClient.\n",
        "client = delta_sharing.SharingClient(profile_file)\n",
        "\n",
        "\n",
        "# List all shared tables.\n",
        "print(client.list_all_tables())\n"
      ],
      "metadata": {
        "id": "b0Gj5_07Icda",
        "colab": {
          "base_uri": "https://localhost:8080/"
        },
        "outputId": "b676257c-82cd-480c-e8c4-a22676f20530"
      },
      "execution_count": 3,
      "outputs": [
        {
          "output_type": "stream",
          "name": "stdout",
          "text": [
            "[Table(name='myshare', share='frank_share', schema='motion')]\n"
          ]
        }
      ]
    },
    {
      "cell_type": "code",
      "source": [
        "# load data as pandas dataframe (or Spark)\n",
        "table_url = profile_file + \"#frank_share.motion.myshare\"\n",
        "pt = delta_sharing.load_as_pandas(table_url)\n",
        "\n",
        "pt=pt.sort_values(by=['mm'])"
      ],
      "metadata": {
        "id": "0Nb-iGf0JOD0"
      },
      "execution_count": 9,
      "outputs": []
    },
    {
      "cell_type": "code",
      "source": [
        "import plotly.express as px\n",
        "\n",
        "fig = px.bar(pt, y='device', x='mm', orientation='h', color='mm', color_continuous_scale='rainbow')\n",
        "fig.show()\n"
      ],
      "metadata": {
        "id": "Ilj3m63UUQHD",
        "colab": {
          "base_uri": "https://localhost:8080/",
          "height": 542
        },
        "outputId": "43349937-a6df-40db-c05a-03bdb683e40a"
      },
      "execution_count": 10,
      "outputs": [
        {
          "output_type": "display_data",
          "data": {
            "text/html": [
              "<html>\n",
              "<head><meta charset=\"utf-8\" /></head>\n",
              "<body>\n",
              "    <div>            <script src=\"https://cdnjs.cloudflare.com/ajax/libs/mathjax/2.7.5/MathJax.js?config=TeX-AMS-MML_SVG\"></script><script type=\"text/javascript\">if (window.MathJax && window.MathJax.Hub && window.MathJax.Hub.Config) {window.MathJax.Hub.Config({SVG: {font: \"STIX-Web\"}});}</script>                <script type=\"text/javascript\">window.PlotlyConfig = {MathJaxConfig: 'local'};</script>\n",
              "        <script src=\"https://cdn.plot.ly/plotly-2.18.2.min.js\"></script>                <div id=\"1cc4a596-33bf-4624-b2b3-48811f8602db\" class=\"plotly-graph-div\" style=\"height:525px; width:100%;\"></div>            <script type=\"text/javascript\">                                    window.PLOTLYENV=window.PLOTLYENV || {};                                    if (document.getElementById(\"1cc4a596-33bf-4624-b2b3-48811f8602db\")) {                    Plotly.newPlot(                        \"1cc4a596-33bf-4624-b2b3-48811f8602db\",                        [{\"alignmentgroup\":\"True\",\"hovertemplate\":\"mm=%{marker.color}<br>device=%{y}<extra></extra>\",\"legendgroup\":\"\",\"marker\":{\"color\":[0.0,0.0,0.0,0.0,0.0,1.0,2.0,3.0,8.0,9.0,12.0,16.0,16.0,17.0,17.0,18.0,20.0,20.0,21.0,22.0,22.0,25.0,25.0,26.0,26.0,26.0,27.0,27.0,29.0,30.0,31.0,33.0,37.0,37.0,38.0,39.0,40.0,44.0,44.0,45.0,46.0,47.0,47.0,47.0,47.0,48.0,51.0,51.0,53.0,53.0,56.0,56.0,57.0,58.0,58.0,59.0,59.0,60.0,61.0,61.0,63.0,63.0,64.0,64.0,66.0,67.0,68.0,68.0,69.0,70.0,70.0,70.0,71.0,73.0,73.0,75.0,76.0,76.0,77.0,78.0,79.0,84.0,84.0,85.0,85.0,85.0,86.0,86.0,88.0,89.0,90.0,90.0,92.0,93.0,93.0,95.0,95.0,97.0,97.0,98.0,98.0,101.0,101.0,102.0,104.0,104.0,107.0,108.0,109.0,109.0,110.0,112.0,112.0,118.0,120.0,121.0,123.0,124.0,124.0,126.0,128.0,131.0,132.0,133.0,139.0,140.0,145.0,146.0,149.0,153.0,159.0,165.0,178.0,194.0,201.0,205.0,231.0],\"coloraxis\":\"coloraxis\",\"pattern\":{\"shape\":\"\"}},\"name\":\"\",\"offsetgroup\":\"\",\"orientation\":\"h\",\"showlegend\":false,\"textposition\":\"auto\",\"x\":[0.0,0.0,0.0,0.0,0.0,1.0,2.0,3.0,8.0,9.0,12.0,16.0,16.0,17.0,17.0,18.0,20.0,20.0,21.0,22.0,22.0,25.0,25.0,26.0,26.0,26.0,27.0,27.0,29.0,30.0,31.0,33.0,37.0,37.0,38.0,39.0,40.0,44.0,44.0,45.0,46.0,47.0,47.0,47.0,47.0,48.0,51.0,51.0,53.0,53.0,56.0,56.0,57.0,58.0,58.0,59.0,59.0,60.0,61.0,61.0,63.0,63.0,64.0,64.0,66.0,67.0,68.0,68.0,69.0,70.0,70.0,70.0,71.0,73.0,73.0,75.0,76.0,76.0,77.0,78.0,79.0,84.0,84.0,85.0,85.0,85.0,86.0,86.0,88.0,89.0,90.0,90.0,92.0,93.0,93.0,95.0,95.0,97.0,97.0,98.0,98.0,101.0,101.0,102.0,104.0,104.0,107.0,108.0,109.0,109.0,110.0,112.0,112.0,118.0,120.0,121.0,123.0,124.0,124.0,126.0,128.0,131.0,132.0,133.0,139.0,140.0,145.0,146.0,149.0,153.0,159.0,165.0,178.0,194.0,201.0,205.0,231.0],\"xaxis\":\"x\",\"y\":[\"client-3819b80bd1ab\",\"client-c216126adcbc\",\"client-e88e2bfac445\",\"client-f007861a77d8\",\"client-4d18d0ae9ce7\",\"client-19a50107f5aa\",\"client-4352f9f1a820\",\"client-7bee4148e498\",\"client-7cdb09b4b649\",\"client-be273ee6fd26\",\"client-0e7d23b11f6e\",\"client-ef7059a8dc61\",\"client-93a36ef694ee\",\"client-13d432a1ba41\",\"client-c94bc05c3dce\",\"client-e4ef747e2c89\",\"client-c252757523ca\",\"client-43de0629ecbe\",\"client-56ebaa7ea132\",\"client-f5b489b1b516\",\"client-fcbf05c81181\",\"client-7dc020c93498\",\"client-202d438c92b5\",\"client-ed03ea49ee4f\",\"client-a2d7e9f562b4\",\"client-a2129ecd7611\",\"client-c3a88cbb06dc\",\"client-bad804c90e41\",\"client-9c089d60de6c\",\"client-b37f8a94682b\",\"client-1c40d11ced77\",\"client-fc33a0881817\",\"client-4019b7563157\",\"client-a56ed5818fe8\",\"client-2db34df73a45\",\"client-853417dbe912\",\"client-e2ba3c806886\",\"client-737220406f2d\",\"client-10fd60916317\",\"client-7f0408baffe0\",\"client-56ad511297c9\",\"client-0dbea5638d20\",\"client-cb3f40864df6\",\"client-52b6df193e2b\",\"client-9fa25acf5c2b\",\"client-e81a15791146\",\"client-fa44a21e417b\",\"client-e0fff5d4c4e2\",\"client-246ee796d922\",\"client-d3d7d976ea61\",\"client-045303286441\",\"client-177bb0ae5257\",\"client-3f92741a1c30\",\"client-9628bb78043a\",\"client-84af421654e9\",\"client-39601d3c3dd1\",\"client-72e025d60017\",\"client-f4ce8658c85b\",\"client-79682c208cfc\",\"client-076a1b65ba6c\",\"client-165e82b7f4f4\",\"client-a80093df8ffb\",\"client-519bee2c004a\",\"client-cb120f3fd71e\",\"client-0401dce61e6e\",\"client-66fadd896b99\",\"client-b3e34d093db2\",\"client-395683fcbfc7\",\"client-71d0f34c5954\",\"client-ec2c887c367b\",\"client-771153204bf0\",\"client-142e2d49c2c0\",\"client-55b15bc44ad6\",\"client-82bce5c003f5\",\"client-dcd3166990e5\",\"client-21dfbccf90e4\",\"client-20510721a4e9\",\"client-2301735300a9\",\"client-3328da96e0fb\",\"client-4a99ac781366\",\"client-2ded7fd3de30\",\"client-66829a13d0e0\",\"client-79ad6935097b\",\"client-d4bfb386cd78\",\"client-50503e2f4aae\",\"client-07a57d3afdfd\",\"client-cfb5c4729c95\",\"client-02b36ae96741\",\"client-0da7e09c7f97\",\"client-d6d7761a38fa\",\"client-5cad0f85cc65\",\"client-90c1af47fe81\",\"client-f36978c4a3d5\",\"client-16bd163c1a29\",\"client-9ae831667176\",\"client-c115723235a5\",\"client-cba3c349409e\",\"client-adc181567164\",\"client-d626b3c1a163\",\"client-9d315c2fcff5\",\"client-824d1d2079ab\",\"client-9c3ca9aa7884\",\"client-9e07bfbbdcd4\",\"client-26c46ce1c123\",\"client-caf6e12297c6\",\"client-034fa5cb83ce\",\"client-b42c12bb8751\",\"client-d996439f5285\",\"client-15099ffb2de9\",\"client-2448f2ec8bed\",\"client-126a81b7da1a\",\"client-1563c0a9286d\",\"client-f8efaa8e5186\",\"client-7dc353feeebe\",\"client-f1278aa9fa2c\",\"client-90e8140bc421\",\"client-09ee17e07dc4\",\"client-4b81bcad35f1\",\"client-813788c12955\",\"client-3a095982e154\",\"client-b2c786db5a3d\",\"client-9c7ae328e134\",\"client-c94dec131f6e\",\"client-0e2064fc28ea\",\"client-9156f80bd371\",\"client-0e4916e5cd46\",\"client-58dab3839221\",\"client-db9ea1336354\",\"client-c34e06f6fe2a\",\"client-17de4a0bed6e\",\"client-5e34793b70b7\",\"client-abb478bc8dc4\",\"client-379b7db22d3b\",\"client-bef49925a27b\",\"client-d2d4f368904d\",\"client-ca3443087332\",\"client-8778c8134a96\"],\"yaxis\":\"y\",\"type\":\"bar\"}],                        {\"template\":{\"data\":{\"histogram2dcontour\":[{\"type\":\"histogram2dcontour\",\"colorbar\":{\"outlinewidth\":0,\"ticks\":\"\"},\"colorscale\":[[0.0,\"#0d0887\"],[0.1111111111111111,\"#46039f\"],[0.2222222222222222,\"#7201a8\"],[0.3333333333333333,\"#9c179e\"],[0.4444444444444444,\"#bd3786\"],[0.5555555555555556,\"#d8576b\"],[0.6666666666666666,\"#ed7953\"],[0.7777777777777778,\"#fb9f3a\"],[0.8888888888888888,\"#fdca26\"],[1.0,\"#f0f921\"]]}],\"choropleth\":[{\"type\":\"choropleth\",\"colorbar\":{\"outlinewidth\":0,\"ticks\":\"\"}}],\"histogram2d\":[{\"type\":\"histogram2d\",\"colorbar\":{\"outlinewidth\":0,\"ticks\":\"\"},\"colorscale\":[[0.0,\"#0d0887\"],[0.1111111111111111,\"#46039f\"],[0.2222222222222222,\"#7201a8\"],[0.3333333333333333,\"#9c179e\"],[0.4444444444444444,\"#bd3786\"],[0.5555555555555556,\"#d8576b\"],[0.6666666666666666,\"#ed7953\"],[0.7777777777777778,\"#fb9f3a\"],[0.8888888888888888,\"#fdca26\"],[1.0,\"#f0f921\"]]}],\"heatmap\":[{\"type\":\"heatmap\",\"colorbar\":{\"outlinewidth\":0,\"ticks\":\"\"},\"colorscale\":[[0.0,\"#0d0887\"],[0.1111111111111111,\"#46039f\"],[0.2222222222222222,\"#7201a8\"],[0.3333333333333333,\"#9c179e\"],[0.4444444444444444,\"#bd3786\"],[0.5555555555555556,\"#d8576b\"],[0.6666666666666666,\"#ed7953\"],[0.7777777777777778,\"#fb9f3a\"],[0.8888888888888888,\"#fdca26\"],[1.0,\"#f0f921\"]]}],\"heatmapgl\":[{\"type\":\"heatmapgl\",\"colorbar\":{\"outlinewidth\":0,\"ticks\":\"\"},\"colorscale\":[[0.0,\"#0d0887\"],[0.1111111111111111,\"#46039f\"],[0.2222222222222222,\"#7201a8\"],[0.3333333333333333,\"#9c179e\"],[0.4444444444444444,\"#bd3786\"],[0.5555555555555556,\"#d8576b\"],[0.6666666666666666,\"#ed7953\"],[0.7777777777777778,\"#fb9f3a\"],[0.8888888888888888,\"#fdca26\"],[1.0,\"#f0f921\"]]}],\"contourcarpet\":[{\"type\":\"contourcarpet\",\"colorbar\":{\"outlinewidth\":0,\"ticks\":\"\"}}],\"contour\":[{\"type\":\"contour\",\"colorbar\":{\"outlinewidth\":0,\"ticks\":\"\"},\"colorscale\":[[0.0,\"#0d0887\"],[0.1111111111111111,\"#46039f\"],[0.2222222222222222,\"#7201a8\"],[0.3333333333333333,\"#9c179e\"],[0.4444444444444444,\"#bd3786\"],[0.5555555555555556,\"#d8576b\"],[0.6666666666666666,\"#ed7953\"],[0.7777777777777778,\"#fb9f3a\"],[0.8888888888888888,\"#fdca26\"],[1.0,\"#f0f921\"]]}],\"surface\":[{\"type\":\"surface\",\"colorbar\":{\"outlinewidth\":0,\"ticks\":\"\"},\"colorscale\":[[0.0,\"#0d0887\"],[0.1111111111111111,\"#46039f\"],[0.2222222222222222,\"#7201a8\"],[0.3333333333333333,\"#9c179e\"],[0.4444444444444444,\"#bd3786\"],[0.5555555555555556,\"#d8576b\"],[0.6666666666666666,\"#ed7953\"],[0.7777777777777778,\"#fb9f3a\"],[0.8888888888888888,\"#fdca26\"],[1.0,\"#f0f921\"]]}],\"mesh3d\":[{\"type\":\"mesh3d\",\"colorbar\":{\"outlinewidth\":0,\"ticks\":\"\"}}],\"scatter\":[{\"fillpattern\":{\"fillmode\":\"overlay\",\"size\":10,\"solidity\":0.2},\"type\":\"scatter\"}],\"parcoords\":[{\"type\":\"parcoords\",\"line\":{\"colorbar\":{\"outlinewidth\":0,\"ticks\":\"\"}}}],\"scatterpolargl\":[{\"type\":\"scatterpolargl\",\"marker\":{\"colorbar\":{\"outlinewidth\":0,\"ticks\":\"\"}}}],\"bar\":[{\"error_x\":{\"color\":\"#2a3f5f\"},\"error_y\":{\"color\":\"#2a3f5f\"},\"marker\":{\"line\":{\"color\":\"#E5ECF6\",\"width\":0.5},\"pattern\":{\"fillmode\":\"overlay\",\"size\":10,\"solidity\":0.2}},\"type\":\"bar\"}],\"scattergeo\":[{\"type\":\"scattergeo\",\"marker\":{\"colorbar\":{\"outlinewidth\":0,\"ticks\":\"\"}}}],\"scatterpolar\":[{\"type\":\"scatterpolar\",\"marker\":{\"colorbar\":{\"outlinewidth\":0,\"ticks\":\"\"}}}],\"histogram\":[{\"marker\":{\"pattern\":{\"fillmode\":\"overlay\",\"size\":10,\"solidity\":0.2}},\"type\":\"histogram\"}],\"scattergl\":[{\"type\":\"scattergl\",\"marker\":{\"colorbar\":{\"outlinewidth\":0,\"ticks\":\"\"}}}],\"scatter3d\":[{\"type\":\"scatter3d\",\"line\":{\"colorbar\":{\"outlinewidth\":0,\"ticks\":\"\"}},\"marker\":{\"colorbar\":{\"outlinewidth\":0,\"ticks\":\"\"}}}],\"scattermapbox\":[{\"type\":\"scattermapbox\",\"marker\":{\"colorbar\":{\"outlinewidth\":0,\"ticks\":\"\"}}}],\"scatterternary\":[{\"type\":\"scatterternary\",\"marker\":{\"colorbar\":{\"outlinewidth\":0,\"ticks\":\"\"}}}],\"scattercarpet\":[{\"type\":\"scattercarpet\",\"marker\":{\"colorbar\":{\"outlinewidth\":0,\"ticks\":\"\"}}}],\"carpet\":[{\"aaxis\":{\"endlinecolor\":\"#2a3f5f\",\"gridcolor\":\"white\",\"linecolor\":\"white\",\"minorgridcolor\":\"white\",\"startlinecolor\":\"#2a3f5f\"},\"baxis\":{\"endlinecolor\":\"#2a3f5f\",\"gridcolor\":\"white\",\"linecolor\":\"white\",\"minorgridcolor\":\"white\",\"startlinecolor\":\"#2a3f5f\"},\"type\":\"carpet\"}],\"table\":[{\"cells\":{\"fill\":{\"color\":\"#EBF0F8\"},\"line\":{\"color\":\"white\"}},\"header\":{\"fill\":{\"color\":\"#C8D4E3\"},\"line\":{\"color\":\"white\"}},\"type\":\"table\"}],\"barpolar\":[{\"marker\":{\"line\":{\"color\":\"#E5ECF6\",\"width\":0.5},\"pattern\":{\"fillmode\":\"overlay\",\"size\":10,\"solidity\":0.2}},\"type\":\"barpolar\"}],\"pie\":[{\"automargin\":true,\"type\":\"pie\"}]},\"layout\":{\"autotypenumbers\":\"strict\",\"colorway\":[\"#636efa\",\"#EF553B\",\"#00cc96\",\"#ab63fa\",\"#FFA15A\",\"#19d3f3\",\"#FF6692\",\"#B6E880\",\"#FF97FF\",\"#FECB52\"],\"font\":{\"color\":\"#2a3f5f\"},\"hovermode\":\"closest\",\"hoverlabel\":{\"align\":\"left\"},\"paper_bgcolor\":\"white\",\"plot_bgcolor\":\"#E5ECF6\",\"polar\":{\"bgcolor\":\"#E5ECF6\",\"angularaxis\":{\"gridcolor\":\"white\",\"linecolor\":\"white\",\"ticks\":\"\"},\"radialaxis\":{\"gridcolor\":\"white\",\"linecolor\":\"white\",\"ticks\":\"\"}},\"ternary\":{\"bgcolor\":\"#E5ECF6\",\"aaxis\":{\"gridcolor\":\"white\",\"linecolor\":\"white\",\"ticks\":\"\"},\"baxis\":{\"gridcolor\":\"white\",\"linecolor\":\"white\",\"ticks\":\"\"},\"caxis\":{\"gridcolor\":\"white\",\"linecolor\":\"white\",\"ticks\":\"\"}},\"coloraxis\":{\"colorbar\":{\"outlinewidth\":0,\"ticks\":\"\"}},\"colorscale\":{\"sequential\":[[0.0,\"#0d0887\"],[0.1111111111111111,\"#46039f\"],[0.2222222222222222,\"#7201a8\"],[0.3333333333333333,\"#9c179e\"],[0.4444444444444444,\"#bd3786\"],[0.5555555555555556,\"#d8576b\"],[0.6666666666666666,\"#ed7953\"],[0.7777777777777778,\"#fb9f3a\"],[0.8888888888888888,\"#fdca26\"],[1.0,\"#f0f921\"]],\"sequentialminus\":[[0.0,\"#0d0887\"],[0.1111111111111111,\"#46039f\"],[0.2222222222222222,\"#7201a8\"],[0.3333333333333333,\"#9c179e\"],[0.4444444444444444,\"#bd3786\"],[0.5555555555555556,\"#d8576b\"],[0.6666666666666666,\"#ed7953\"],[0.7777777777777778,\"#fb9f3a\"],[0.8888888888888888,\"#fdca26\"],[1.0,\"#f0f921\"]],\"diverging\":[[0,\"#8e0152\"],[0.1,\"#c51b7d\"],[0.2,\"#de77ae\"],[0.3,\"#f1b6da\"],[0.4,\"#fde0ef\"],[0.5,\"#f7f7f7\"],[0.6,\"#e6f5d0\"],[0.7,\"#b8e186\"],[0.8,\"#7fbc41\"],[0.9,\"#4d9221\"],[1,\"#276419\"]]},\"xaxis\":{\"gridcolor\":\"white\",\"linecolor\":\"white\",\"ticks\":\"\",\"title\":{\"standoff\":15},\"zerolinecolor\":\"white\",\"automargin\":true,\"zerolinewidth\":2},\"yaxis\":{\"gridcolor\":\"white\",\"linecolor\":\"white\",\"ticks\":\"\",\"title\":{\"standoff\":15},\"zerolinecolor\":\"white\",\"automargin\":true,\"zerolinewidth\":2},\"scene\":{\"xaxis\":{\"backgroundcolor\":\"#E5ECF6\",\"gridcolor\":\"white\",\"linecolor\":\"white\",\"showbackground\":true,\"ticks\":\"\",\"zerolinecolor\":\"white\",\"gridwidth\":2},\"yaxis\":{\"backgroundcolor\":\"#E5ECF6\",\"gridcolor\":\"white\",\"linecolor\":\"white\",\"showbackground\":true,\"ticks\":\"\",\"zerolinecolor\":\"white\",\"gridwidth\":2},\"zaxis\":{\"backgroundcolor\":\"#E5ECF6\",\"gridcolor\":\"white\",\"linecolor\":\"white\",\"showbackground\":true,\"ticks\":\"\",\"zerolinecolor\":\"white\",\"gridwidth\":2}},\"shapedefaults\":{\"line\":{\"color\":\"#2a3f5f\"}},\"annotationdefaults\":{\"arrowcolor\":\"#2a3f5f\",\"arrowhead\":0,\"arrowwidth\":1},\"geo\":{\"bgcolor\":\"white\",\"landcolor\":\"#E5ECF6\",\"subunitcolor\":\"white\",\"showland\":true,\"showlakes\":true,\"lakecolor\":\"white\"},\"title\":{\"x\":0.05},\"mapbox\":{\"style\":\"light\"}}},\"xaxis\":{\"anchor\":\"y\",\"domain\":[0.0,1.0],\"title\":{\"text\":\"mm\"}},\"yaxis\":{\"anchor\":\"x\",\"domain\":[0.0,1.0],\"title\":{\"text\":\"device\"}},\"coloraxis\":{\"colorbar\":{\"title\":{\"text\":\"mm\"}},\"colorscale\":[[0.0,\"rgb(150,0,90)\"],[0.125,\"rgb(0,0,200)\"],[0.25,\"rgb(0,25,255)\"],[0.375,\"rgb(0,152,255)\"],[0.5,\"rgb(44,255,150)\"],[0.625,\"rgb(151,255,0)\"],[0.75,\"rgb(255,234,0)\"],[0.875,\"rgb(255,111,0)\"],[1.0,\"rgb(255,0,0)\"]]},\"legend\":{\"tracegroupgap\":0},\"margin\":{\"t\":60},\"barmode\":\"relative\"},                        {\"responsive\": true}                    ).then(function(){\n",
              "                            \n",
              "var gd = document.getElementById('1cc4a596-33bf-4624-b2b3-48811f8602db');\n",
              "var x = new MutationObserver(function (mutations, observer) {{\n",
              "        var display = window.getComputedStyle(gd).display;\n",
              "        if (!display || display === 'none') {{\n",
              "            console.log([gd, 'removed!']);\n",
              "            Plotly.purge(gd);\n",
              "            observer.disconnect();\n",
              "        }}\n",
              "}});\n",
              "\n",
              "// Listen for the removal of the full notebook cells\n",
              "var notebookContainer = gd.closest('#notebook-container');\n",
              "if (notebookContainer) {{\n",
              "    x.observe(notebookContainer, {childList: true});\n",
              "}}\n",
              "\n",
              "// Listen for the clearing of the current output cell\n",
              "var outputEl = gd.closest('.output');\n",
              "if (outputEl) {{\n",
              "    x.observe(outputEl, {childList: true});\n",
              "}}\n",
              "\n",
              "                        })                };                            </script>        </div>\n",
              "</body>\n",
              "</html>"
            ]
          },
          "metadata": {}
        }
      ]
    }
  ]
}